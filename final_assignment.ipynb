{
 "cells": [
  {
   "cell_type": "markdown",
   "id": "a6f98dce-f4f1-4e26-a374-6ab740c5281f",
   "metadata": {},
   "source": [
    "<h1>My Final Assignment</h1>"
   ]
  },
  {
   "cell_type": "markdown",
   "id": "e791cdc9-9528-4637-b594-17aaed8636e2",
   "metadata": {},
   "source": [
    "this is my assignment i applied my knowledges from this course, working with markdowns and linking my project to github"
   ]
  },
  {
   "cell_type": "markdown",
   "id": "c9232398-192c-4536-b427-60fcc8b02924",
   "metadata": {},
   "source": [
    "there is so many languages used in data science :\n",
    "<ul>\n",
    "  <li>Python</li>\n",
    "  <li>R</li>\n",
    "  <li>SQL</li>\n",
    "  <li>Scala</li>\n",
    "</ul>  \n"
   ]
  },
  {
   "cell_type": "markdown",
   "id": "020af6b7-5710-4585-b01f-9a6478ce4f07",
   "metadata": {},
   "source": [
    "some of data science libraries :\n",
    "<ul>\n",
    "  <li>scikit-learn</li>\n",
    "  <li>TensorFlow</li>\n",
    "  <li>PyTorch</li>\n",
    "  <li>Apache Spark</li>\n",
    "  <li>ggplot2</li>\n",
    "</ul>"
   ]
  },
  {
   "cell_type": "markdown",
   "id": "982d7536-ff27-4351-b285-17237c3f342d",
   "metadata": {},
   "source": [
    "some of data science tools :\n",
    "\n",
    "<table>\n",
    "  <thead>\n",
    "    <tr>\n",
    "      <th>data science tools</th>\n",
    "    </tr>\n",
    "  </thead>\n",
    "  <tbody>\n",
    "    <tr>\n",
    "        <td>Watson Studio</td>\n",
    "    </tr>\n",
    "    <tr>\n",
    "        <td>SPSS modeler</td>\n",
    "    </tr>\n",
    "      <tr>\n",
    "        <td>Watson knowledge catalog</td>\n",
    "    </tr>\n",
    "      <tr>\n",
    "        <td>Data refinery</td>\n",
    "    </tr>\n",
    "      <tr>\n",
    "        <td>AutoAI</td>\n",
    "    </tr>\n",
    "      <tr>\n",
    "        <td>IBM Watson OpenScale</td>\n",
    "    </tr>\n",
    "      \n",
    "        \n",
    "        \n",
    "        \n",
    "        \n",
    "  </tbody>\n",
    "</table>"
   ]
  },
  {
   "cell_type": "markdown",
   "id": "e755e327-55c2-4df9-bf66-d51bc3b72435",
   "metadata": {},
   "source": [
    "An expression that contains a combination of operators, operands, and sometimes parenthesis is known as an arithmetic expression for example : Addition, Multiplication, Division, Subtraction"
   ]
  },
  {
   "cell_type": "code",
   "execution_count": 2,
   "id": "91785bdf-5a8a-44c8-bb0a-ac0db186900e",
   "metadata": {},
   "outputs": [],
   "source": [
    "a = 3 * (4 + 5)"
   ]
  },
  {
   "cell_type": "code",
   "execution_count": 3,
   "id": "265c079c-3359-45da-b96e-7e678f1581d6",
   "metadata": {},
   "outputs": [
    {
     "data": {
      "text/plain": [
       "27"
      ]
     },
     "execution_count": 3,
     "metadata": {},
     "output_type": "execute_result"
    }
   ],
   "source": [
    "a"
   ]
  },
  {
   "cell_type": "code",
   "execution_count": 4,
   "id": "81bd909a-c597-4840-808c-c44d1161fcb7",
   "metadata": {},
   "outputs": [
    {
     "name": "stdout",
     "output_type": "stream",
     "text": [
      "3.8833333333333333 hours, \n"
     ]
    }
   ],
   "source": [
    "hours = 0\n",
    "mins = 0\n",
    "\n",
    "mins = 233\n",
    "hours = mins / 60\n",
    "print(str(hours) + \" hours, \")"
   ]
  },
  {
   "cell_type": "markdown",
   "id": "6f208789-8c30-46ee-8fd1-72d20c534992",
   "metadata": {},
   "source": [
    "my objectives are :\n",
    "<ul>\n",
    "  <li>to learn more about how to manipulate data and how to get insights from it</li>\n",
    "  <li>getting to know so many other useful tools for data science </li>\n",
    "  <li>knowing how to automate some tasks using IBM tools of data science</li>\n",
    "  <li>being confortable working with jupyter notebook</li>\n",
    "</ul>\n"
   ]
  },
  {
   "cell_type": "markdown",
   "id": "f13aeb0c-e69f-4c3c-bdad-e6559225c758",
   "metadata": {},
   "source": [
    "Author’s name : **chaimae**"
   ]
  },
  {
   "cell_type": "code",
   "execution_count": null,
   "id": "699b63e3-2a63-4991-98c5-383b0f980bf6",
   "metadata": {},
   "outputs": [],
   "source": []
  }
 ],
 "metadata": {
  "kernelspec": {
   "display_name": "Python",
   "language": "python",
   "name": "conda-env-python-py"
  },
  "language_info": {
   "codemirror_mode": {
    "name": "ipython",
    "version": 3
   },
   "file_extension": ".py",
   "mimetype": "text/x-python",
   "name": "python",
   "nbconvert_exporter": "python",
   "pygments_lexer": "ipython3",
   "version": "3.7.12"
  }
 },
 "nbformat": 4,
 "nbformat_minor": 5
}
